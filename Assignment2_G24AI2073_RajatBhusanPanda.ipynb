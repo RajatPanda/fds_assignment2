{
  "nbformat": 4,
  "nbformat_minor": 0,
  "metadata": {
    "colab": {
      "provenance": [],
      "authorship_tag": "ABX9TyPwyxHbuX63vilo+N5+iU/U",
      "include_colab_link": true
    },
    "kernelspec": {
      "name": "python3",
      "display_name": "Python 3"
    },
    "language_info": {
      "name": "python"
    }
  },
  "cells": [
    {
      "cell_type": "markdown",
      "metadata": {
        "id": "view-in-github",
        "colab_type": "text"
      },
      "source": [
        "<a href=\"https://colab.research.google.com/github/RajatPanda/fds_assignment2/blob/main/Assignment2_G24AI2073_RajatBhusanPanda.ipynb\" target=\"_parent\"><img src=\"https://colab.research.google.com/assets/colab-badge.svg\" alt=\"Open In Colab\"/></a>"
      ]
    },
    {
      "cell_type": "markdown",
      "source": [
        "Install Java, Hadoop & mrjob"
      ],
      "metadata": {
        "id": "F4TFHDVvDQop"
      }
    },
    {
      "cell_type": "code",
      "execution_count": 1,
      "metadata": {
        "id": "5cSy5G3jwCev",
        "colab": {
          "base_uri": "https://localhost:8080/"
        },
        "collapsed": true,
        "outputId": "6d6d2773-03c7-4cbb-c5f7-1f1f22fb44f8"
      },
      "outputs": [
        {
          "output_type": "stream",
          "name": "stdout",
          "text": [
            "W: Skipping acquire of configured file 'main/source/Sources' as repository 'https://r2u.stat.illinois.edu/ubuntu jammy InRelease' does not seem to provide it (sources.list entry misspelt?)\n",
            "Selecting previously unselected package libxtst6:amd64.\n",
            "(Reading database ... 126284 files and directories currently installed.)\n",
            "Preparing to unpack .../libxtst6_2%3a1.2.3-1build4_amd64.deb ...\n",
            "Unpacking libxtst6:amd64 (2:1.2.3-1build4) ...\n",
            "Selecting previously unselected package openjdk-8-jre-headless:amd64.\n",
            "Preparing to unpack .../openjdk-8-jre-headless_8u452-ga~us1-0ubuntu1~22.04_amd64.deb ...\n",
            "Unpacking openjdk-8-jre-headless:amd64 (8u452-ga~us1-0ubuntu1~22.04) ...\n",
            "Selecting previously unselected package openjdk-8-jdk-headless:amd64.\n",
            "Preparing to unpack .../openjdk-8-jdk-headless_8u452-ga~us1-0ubuntu1~22.04_amd64.deb ...\n",
            "Unpacking openjdk-8-jdk-headless:amd64 (8u452-ga~us1-0ubuntu1~22.04) ...\n",
            "Setting up libxtst6:amd64 (2:1.2.3-1build4) ...\n",
            "Setting up openjdk-8-jre-headless:amd64 (8u452-ga~us1-0ubuntu1~22.04) ...\n",
            "update-alternatives: using /usr/lib/jvm/java-8-openjdk-amd64/jre/bin/orbd to provide /usr/bin/orbd (orbd) in auto mode\n",
            "update-alternatives: using /usr/lib/jvm/java-8-openjdk-amd64/jre/bin/servertool to provide /usr/bin/servertool (servertool) in auto mode\n",
            "update-alternatives: using /usr/lib/jvm/java-8-openjdk-amd64/jre/bin/tnameserv to provide /usr/bin/tnameserv (tnameserv) in auto mode\n",
            "Setting up openjdk-8-jdk-headless:amd64 (8u452-ga~us1-0ubuntu1~22.04) ...\n",
            "update-alternatives: using /usr/lib/jvm/java-8-openjdk-amd64/bin/clhsdb to provide /usr/bin/clhsdb (clhsdb) in auto mode\n",
            "update-alternatives: using /usr/lib/jvm/java-8-openjdk-amd64/bin/extcheck to provide /usr/bin/extcheck (extcheck) in auto mode\n",
            "update-alternatives: using /usr/lib/jvm/java-8-openjdk-amd64/bin/hsdb to provide /usr/bin/hsdb (hsdb) in auto mode\n",
            "update-alternatives: using /usr/lib/jvm/java-8-openjdk-amd64/bin/idlj to provide /usr/bin/idlj (idlj) in auto mode\n",
            "update-alternatives: using /usr/lib/jvm/java-8-openjdk-amd64/bin/javah to provide /usr/bin/javah (javah) in auto mode\n",
            "update-alternatives: using /usr/lib/jvm/java-8-openjdk-amd64/bin/jhat to provide /usr/bin/jhat (jhat) in auto mode\n",
            "update-alternatives: using /usr/lib/jvm/java-8-openjdk-amd64/bin/jsadebugd to provide /usr/bin/jsadebugd (jsadebugd) in auto mode\n",
            "update-alternatives: using /usr/lib/jvm/java-8-openjdk-amd64/bin/native2ascii to provide /usr/bin/native2ascii (native2ascii) in auto mode\n",
            "update-alternatives: using /usr/lib/jvm/java-8-openjdk-amd64/bin/schemagen to provide /usr/bin/schemagen (schemagen) in auto mode\n",
            "update-alternatives: using /usr/lib/jvm/java-8-openjdk-amd64/bin/wsgen to provide /usr/bin/wsgen (wsgen) in auto mode\n",
            "update-alternatives: using /usr/lib/jvm/java-8-openjdk-amd64/bin/wsimport to provide /usr/bin/wsimport (wsimport) in auto mode\n",
            "update-alternatives: using /usr/lib/jvm/java-8-openjdk-amd64/bin/xjc to provide /usr/bin/xjc (xjc) in auto mode\n",
            "Processing triggers for libc-bin (2.35-0ubuntu3.8) ...\n",
            "/sbin/ldconfig.real: /usr/local/lib/libhwloc.so.15 is not a symbolic link\n",
            "\n",
            "/sbin/ldconfig.real: /usr/local/lib/libtbbmalloc.so.2 is not a symbolic link\n",
            "\n",
            "/sbin/ldconfig.real: /usr/local/lib/libtbb.so.12 is not a symbolic link\n",
            "\n",
            "/sbin/ldconfig.real: /usr/local/lib/libtbbbind_2_5.so.3 is not a symbolic link\n",
            "\n",
            "/sbin/ldconfig.real: /usr/local/lib/libtcm_debug.so.1 is not a symbolic link\n",
            "\n",
            "/sbin/ldconfig.real: /usr/local/lib/libur_adapter_level_zero.so.0 is not a symbolic link\n",
            "\n",
            "/sbin/ldconfig.real: /usr/local/lib/libtbbbind_2_0.so.3 is not a symbolic link\n",
            "\n",
            "/sbin/ldconfig.real: /usr/local/lib/libur_adapter_opencl.so.0 is not a symbolic link\n",
            "\n",
            "/sbin/ldconfig.real: /usr/local/lib/libtbbbind.so.3 is not a symbolic link\n",
            "\n",
            "/sbin/ldconfig.real: /usr/local/lib/libumf.so.0 is not a symbolic link\n",
            "\n",
            "/sbin/ldconfig.real: /usr/local/lib/libtbbmalloc_proxy.so.2 is not a symbolic link\n",
            "\n",
            "/sbin/ldconfig.real: /usr/local/lib/libur_adapter_level_zero_v2.so.0 is not a symbolic link\n",
            "\n",
            "/sbin/ldconfig.real: /usr/local/lib/libtcm.so.1 is not a symbolic link\n",
            "\n",
            "/sbin/ldconfig.real: /usr/local/lib/libur_loader.so.0 is not a symbolic link\n",
            "\n",
            "\u001b[2K   \u001b[90m━━━━━━━━━━━━━━━━━━━━━━━━━━━━━━━━━━━━━━━━\u001b[0m \u001b[32m439.6/439.6 kB\u001b[0m \u001b[31m5.6 MB/s\u001b[0m eta \u001b[36m0:00:00\u001b[0m\n",
            "\u001b[?25hHadoop 3.3.6\n",
            "Source code repository https://github.com/apache/hadoop.git -r 1be78238728da9266a4f88195058f08fd012bf9c\n",
            "Compiled by ubuntu on 2023-06-18T08:22Z\n",
            "Compiled on platform linux-x86_64\n",
            "Compiled with protoc 3.7.1\n",
            "From source with checksum 5652179ad55f76cb287d9c633bb53bbd\n",
            "This command was run using /content/hadoop-3.3.6/share/hadoop/common/hadoop-common-3.3.6.jar\n"
          ]
        }
      ],
      "source": [
        "!apt-get update -qq\n",
        "!apt-get install -y openjdk-8-jdk-headless -qq\n",
        "!wget -q https://downloads.apache.org/hadoop/common/hadoop-3.3.6/hadoop-3.3.6.tar.gz\n",
        "!tar -xf hadoop-3.3.6.tar.gz\n",
        "import os, pathlib, sys, json, re, textwrap, math, itertools\n",
        "os.environ[\"JAVA_HOME\"]  = \"/usr/lib/jvm/java-8-openjdk-amd64\"\n",
        "os.environ[\"HADOOP_HOME\"] = \"/content/hadoop-3.3.6\"\n",
        "!pip install -q mrjob==0.7.4\n",
        "!ln -sf /content/hadoop-3.3.6/bin/* /usr/bin/\n",
        "!hadoop version"
      ]
    },
    {
      "cell_type": "markdown",
      "source": [
        "Get CSVs"
      ],
      "metadata": {
        "id": "c4sAuKcGDZig"
      }
    },
    {
      "cell_type": "code",
      "source": [
        "!wget -q -O cruise.csv  https://raw.githubusercontent.com/TakMashhido/PGD-BigData-Tutorial/refs/heads/main/Dataset/cruise.csv\n",
        "!wget -q -O churn.csv   https://raw.githubusercontent.com/TakMashhido/PGD-BigData-Tutorial/refs/heads/main/Dataset/customer_churn.csv\n",
        "!wget -q -O ecommerce.csv https://raw.githubusercontent.com/TakMashhido/PGD-BigData-Tutorial/refs/heads/main/Dataset/e-com_customer.csv"
      ],
      "metadata": {
        "id": "ourlXR4VtUqD"
      },
      "execution_count": 2,
      "outputs": []
    },
    {
      "cell_type": "code",
      "source": [
        "from mrjob.job import MRJob\n",
        "from mrjob.protocol import RawValueProtocol\n",
        "from io import StringIO, BytesIO"
      ],
      "metadata": {
        "id": "wjQ2Gx_JdGaY"
      },
      "execution_count": 3,
      "outputs": []
    },
    {
      "cell_type": "markdown",
      "source": [
        "Function for local runner"
      ],
      "metadata": {
        "id": "YNdwvKs0DxoE"
      }
    },
    {
      "cell_type": "code",
      "source": [
        "def run_local(mr_cls, sample_str):\n",
        "    runner = mr_cls(args=['-r', 'inline', '--no-conf'])\n",
        "    stdin  = BytesIO(sample_str.encode('utf-8'))\n",
        "    with runner.make_runner() as r:\n",
        "        r._stdin = stdin\n",
        "        r.run()\n",
        "        return [line.decode('utf-8').strip() for line in r.cat_output()]"
      ],
      "metadata": {
        "id": "azD3DXjPckv2"
      },
      "execution_count": 10,
      "outputs": []
    },
    {
      "cell_type": "markdown",
      "source": [
        "Q1: For each Cruise line compute:\n",
        "* ship_count\n",
        "* avg_tonnage\n",
        "* max_crew\n",
        "\n",
        "Uses a combiner to lower shuffle volume."
      ],
      "metadata": {
        "id": "2MrAwYdeD9tO"
      }
    },
    {
      "cell_type": "code",
      "source": [
        "%%file cruiseline_agg.py\n",
        "from mrjob.job import MRJob\n",
        "from mrjob.step import MRStep\n",
        "from mrjob.protocol import RawValueProtocol\n",
        "import csv, sys\n",
        "class CruiseLineAgg(MRJob):\n",
        "    \"\"\"Q1: For each Cruise line compute\n",
        "       (a) ship_count\n",
        "       (b) avg_tonnage\n",
        "       (c) max_crew\n",
        "       Uses a combiner to lower shuffle volume.\"\"\"\n",
        "    OUTPUT_PROTOCOL = RawValueProtocol\n",
        "    def mapper(self, _, line):\n",
        "        if line.startswith('Ship_name'):\n",
        "            return\n",
        "        row = next(csv.reader([line]))\n",
        "        line_name = row[1]\n",
        "        tonnage   = float(row[3])\n",
        "        crew      = float(row[8])\n",
        "        yield line_name, (1, tonnage, crew)\n",
        "    def combiner(self, line_name, vals):\n",
        "        c, t_sum, c_max = 0, 0.0, 0.0\n",
        "        for cnt, ton, cr in vals:\n",
        "            c += cnt; t_sum += ton; c_max = max(c_max, cr)\n",
        "        yield line_name, (c, t_sum, c_max)\n",
        "    def reducer(self, line_name, vals):\n",
        "        c, t_sum, c_max = 0, 0.0, 0.0\n",
        "        for cnt, ton, cr in vals:\n",
        "            c += cnt; t_sum += ton; c_max = max(c_max, cr)\n",
        "        avg_ton = round(t_sum / c, 2)\n",
        "        yield None, f\"{line_name}|{c}|{avg_ton:.2f}|{c_max}\"\n",
        "    def steps(self):\n",
        "        return [MRStep(mapper=self.mapper,\n",
        "                       combiner=self.combiner,\n",
        "                       reducer=self.reducer)]\n",
        "if __name__ == '__main__':\n",
        "    CruiseLineAgg.run()"
      ],
      "metadata": {
        "id": "OvYCzJ9iaa3d",
        "colab": {
          "base_uri": "https://localhost:8080/"
        },
        "outputId": "6f3369d0-cfd9-400a-fb95-ce5567055600"
      },
      "execution_count": 9,
      "outputs": [
        {
          "output_type": "stream",
          "name": "stdout",
          "text": [
            "Overwriting cruiseline_agg.py\n"
          ]
        }
      ]
    },
    {
      "cell_type": "code",
      "source": [
        "from cruiseline_agg import CruiseLineAgg\n",
        "\n",
        "sample = (\n",
        "    \"Ship_name,Cruise_line,Age,Tonnage,passengers,length,cabins,passenger_density,crew\\n\"\n",
        "    \"Journey,Azamara,6,30.276999999999997,6.94,5.94,3.55,42.64,3.55\\n\"\n",
        "    \"Quest,Azamara,6,30.276999999999997,6.94,5.94,3.55,42.64,3.55\\n\"\n",
        "    \"Celebration,Carnival,26,47.262,14.86,7.22,7.43,31.8,6.7\\n\"\n",
        ")\n",
        "\n",
        "output_lines = run_local(CruiseLineAgg, sample)\n",
        "for line in output_lines:\n",
        "    print(line)\n"
      ],
      "metadata": {
        "id": "RjIKQDUmeBrx",
        "colab": {
          "base_uri": "https://localhost:8080/"
        },
        "outputId": "bb793a31-7cc5-472d-c574-6f1b5286d623"
      },
      "execution_count": 11,
      "outputs": [
        {
          "output_type": "stream",
          "name": "stderr",
          "text": [
            "WARNING:mrjob.conf:No configs specified for inline runner\n"
          ]
        },
        {
          "output_type": "stream",
          "name": "stdout",
          "text": [
            "Azamara\t2\t30.28\t3.55\n",
            "\n",
            "Carnival\t1\t47.26\t6.7\n"
          ]
        }
      ]
    },
    {
      "cell_type": "markdown",
      "source": [
        "Q2: Multi-step job that filters to VIP firms (from distributed cache) then emits company-level churn rate to 4-decimal precision."
      ],
      "metadata": {
        "id": "hI8TwQQkFV-c"
      }
    },
    {
      "cell_type": "code",
      "source": [
        "%%file churn_rate.py\n",
        "from mrjob.job import MRJob\n",
        "from mrjob.step import MRStep\n",
        "import csv, os\n",
        "class CompanyChurnRate(MRJob):\n",
        "    \"\"\"Q2: Multi-step job that filters to VIP firms (from distributed\n",
        "       cache) then emits company-level churn rate to 4-decimal precision.\"\"\"\n",
        "    FILES = ['vip_companies.txt']\n",
        "    def configure_args(self):\n",
        "        super().configure_args()\n",
        "        self.add_file_arg('--vip', default='vip_companies.txt',\n",
        "                          help='VIP company list, one per line')\n",
        "    def load_options(self, args):\n",
        "        super().load_options(args)\n",
        "        with open(self.options.vip) as f:\n",
        "            self.vip = {l.strip() for l in f if l.strip()}\n",
        "    def mapper(self, _, line):\n",
        "        if line.lower().startswith('customerid'):\n",
        "            return\n",
        "        row = next(csv.reader([line]))\n",
        "        company = row[2]             # Company column\n",
        "        churned = int(row[-1] == 'Yes')\n",
        "        if company in self.vip:\n",
        "            yield (company, 'TOTAL'), 1\n",
        "            if churned: yield (company, 'CHURNED'), 1\n",
        "    def reducer(self, key, vals):\n",
        "        yield key, sum(vals)\n",
        "    def calc_rate(self, company, pairs):\n",
        "        pairs = dict(pairs)\n",
        "        rate  = pairs.get('CHURNED',0) / pairs.get('TOTAL',1)\n",
        "        yield None, f\"{company}|{rate:.4f}\"\n",
        "    def steps(self):\n",
        "        return [MRStep(mapper=self.mapper,\n",
        "                       reducer=self.reducer),\n",
        "                MRStep(reducer=self.calc_rate)]\n",
        "if __name__ == '__main__':\n",
        "    CompanyChurnRate.run()"
      ],
      "metadata": {
        "id": "SpX6krhvuoX1",
        "colab": {
          "base_uri": "https://localhost:8080/"
        },
        "outputId": "46df7e91-85c0-4baf-f8ee-35ab0151e10c"
      },
      "execution_count": 14,
      "outputs": [
        {
          "output_type": "stream",
          "name": "stdout",
          "text": [
            "Writing churn_rate.py\n"
          ]
        }
      ]
    },
    {
      "cell_type": "code",
      "source": [
        "from churn_rate import CompanyChurnRate\n",
        "\n",
        "sample = (\n",
        "    \"Names,Age,Total_Purchase,Account_Manager,Years,Num_Sites,Onboard_date,Location,Company,Churn\\n\"\n",
        "    \"Cameron Williams,42.0,11066.8,0,7.22,8.0,2013-08-30 07:00:40,\\\"10265 Elizabeth Mission Barkerburgh, AK 89518\\\",Harvey LLC,1\\n\"\n",
        "    \"Kevin Mueller,41.0,11916.22,0,6.5,11.0,2013-08-13 00:38:46,\\\"6157 Frank Gardens Suite 019 Carloshaven, RI 17756\\\",Wilson PLC,1\\n\"\n",
        "    \"Eric Lozano,38.0,12884.75,0,6.67,12.0,2016-06-29 06:20:07,\\\"1331 Keith Court Alyssahaven, DE 90114\\\",\\\"Miller, Johnson and Wallace\\\",1\\n\"\n",
        "    \"Phillip White,42.0,8010.76,0,6.71,10.0,2014-04-22 12:43:12,\\\"13120 Daniel Mount Angelabury, WY 30645-4695\\\",Smith Inc,1\\n\"\n",
        ")\n",
        "\n",
        "output_lines = run_local(CompanyChurnRate, sample)\n",
        "for line in output_lines:\n",
        "    print(line)"
      ],
      "metadata": {
        "colab": {
          "base_uri": "https://localhost:8080/",
          "height": 425
        },
        "id": "f7Eb60IFFhuu",
        "outputId": "3d1b8783-2246-40c8-d1a3-ddab1e81c903"
      },
      "execution_count": 16,
      "outputs": [
        {
          "output_type": "stream",
          "name": "stderr",
          "text": [
            "WARNING:mrjob.conf:No configs specified for inline runner\n",
            "ERROR:mrjob.inline:\n",
            "Error while reading from /tmp/churn_rate.root.20250728.173528.387534/step/000/mapper/00000/input:\n",
            "\n"
          ]
        },
        {
          "output_type": "error",
          "ename": "AttributeError",
          "evalue": "'CompanyChurnRate' object has no attribute 'vip'",
          "traceback": [
            "\u001b[0;31m---------------------------------------------------------------------------\u001b[0m",
            "\u001b[0;31mAttributeError\u001b[0m                            Traceback (most recent call last)",
            "\u001b[0;32m/tmp/ipython-input-16-604165697.py\u001b[0m in \u001b[0;36m<cell line: 0>\u001b[0;34m()\u001b[0m\n\u001b[1;32m      9\u001b[0m )\n\u001b[1;32m     10\u001b[0m \u001b[0;34m\u001b[0m\u001b[0m\n\u001b[0;32m---> 11\u001b[0;31m \u001b[0moutput_lines\u001b[0m \u001b[0;34m=\u001b[0m \u001b[0mrun_local\u001b[0m\u001b[0;34m(\u001b[0m\u001b[0mCompanyChurnRate\u001b[0m\u001b[0;34m,\u001b[0m \u001b[0msample\u001b[0m\u001b[0;34m)\u001b[0m\u001b[0;34m\u001b[0m\u001b[0;34m\u001b[0m\u001b[0m\n\u001b[0m\u001b[1;32m     12\u001b[0m \u001b[0;32mfor\u001b[0m \u001b[0mline\u001b[0m \u001b[0;32min\u001b[0m \u001b[0moutput_lines\u001b[0m\u001b[0;34m:\u001b[0m\u001b[0;34m\u001b[0m\u001b[0;34m\u001b[0m\u001b[0m\n\u001b[1;32m     13\u001b[0m     \u001b[0mprint\u001b[0m\u001b[0;34m(\u001b[0m\u001b[0mline\u001b[0m\u001b[0;34m)\u001b[0m\u001b[0;34m\u001b[0m\u001b[0;34m\u001b[0m\u001b[0m\n",
            "\u001b[0;32m/tmp/ipython-input-10-1406486287.py\u001b[0m in \u001b[0;36mrun_local\u001b[0;34m(mr_cls, sample_str)\u001b[0m\n\u001b[1;32m      4\u001b[0m     \u001b[0;32mwith\u001b[0m \u001b[0mrunner\u001b[0m\u001b[0;34m.\u001b[0m\u001b[0mmake_runner\u001b[0m\u001b[0;34m(\u001b[0m\u001b[0;34m)\u001b[0m \u001b[0;32mas\u001b[0m \u001b[0mr\u001b[0m\u001b[0;34m:\u001b[0m\u001b[0;34m\u001b[0m\u001b[0;34m\u001b[0m\u001b[0m\n\u001b[1;32m      5\u001b[0m         \u001b[0mr\u001b[0m\u001b[0;34m.\u001b[0m\u001b[0m_stdin\u001b[0m \u001b[0;34m=\u001b[0m \u001b[0mstdin\u001b[0m\u001b[0;34m\u001b[0m\u001b[0;34m\u001b[0m\u001b[0m\n\u001b[0;32m----> 6\u001b[0;31m         \u001b[0mr\u001b[0m\u001b[0;34m.\u001b[0m\u001b[0mrun\u001b[0m\u001b[0;34m(\u001b[0m\u001b[0;34m)\u001b[0m\u001b[0;34m\u001b[0m\u001b[0;34m\u001b[0m\u001b[0m\n\u001b[0m\u001b[1;32m      7\u001b[0m         \u001b[0;32mreturn\u001b[0m \u001b[0;34m[\u001b[0m\u001b[0mline\u001b[0m\u001b[0;34m.\u001b[0m\u001b[0mdecode\u001b[0m\u001b[0;34m(\u001b[0m\u001b[0;34m'utf-8'\u001b[0m\u001b[0;34m)\u001b[0m\u001b[0;34m.\u001b[0m\u001b[0mstrip\u001b[0m\u001b[0;34m(\u001b[0m\u001b[0;34m)\u001b[0m \u001b[0;32mfor\u001b[0m \u001b[0mline\u001b[0m \u001b[0;32min\u001b[0m \u001b[0mr\u001b[0m\u001b[0;34m.\u001b[0m\u001b[0mcat_output\u001b[0m\u001b[0;34m(\u001b[0m\u001b[0;34m)\u001b[0m\u001b[0;34m]\u001b[0m\u001b[0;34m\u001b[0m\u001b[0;34m\u001b[0m\u001b[0m\n",
            "\u001b[0;32m/usr/local/lib/python3.11/dist-packages/mrjob/runner.py\u001b[0m in \u001b[0;36mrun\u001b[0;34m(self)\u001b[0m\n\u001b[1;32m    501\u001b[0m         \u001b[0mself\u001b[0m\u001b[0;34m.\u001b[0m\u001b[0m_add_input_files_for_upload\u001b[0m\u001b[0;34m(\u001b[0m\u001b[0;34m)\u001b[0m\u001b[0;34m\u001b[0m\u001b[0;34m\u001b[0m\u001b[0m\n\u001b[1;32m    502\u001b[0m         \u001b[0mself\u001b[0m\u001b[0;34m.\u001b[0m\u001b[0m_create_input_manifest_if_needed\u001b[0m\u001b[0;34m(\u001b[0m\u001b[0;34m)\u001b[0m\u001b[0;34m\u001b[0m\u001b[0;34m\u001b[0m\u001b[0m\n\u001b[0;32m--> 503\u001b[0;31m         \u001b[0mself\u001b[0m\u001b[0;34m.\u001b[0m\u001b[0m_run\u001b[0m\u001b[0;34m(\u001b[0m\u001b[0;34m)\u001b[0m\u001b[0;34m\u001b[0m\u001b[0;34m\u001b[0m\u001b[0m\n\u001b[0m\u001b[1;32m    504\u001b[0m         \u001b[0mself\u001b[0m\u001b[0;34m.\u001b[0m\u001b[0m_ran_job\u001b[0m \u001b[0;34m=\u001b[0m \u001b[0;32mTrue\u001b[0m\u001b[0;34m\u001b[0m\u001b[0;34m\u001b[0m\u001b[0m\n\u001b[1;32m    505\u001b[0m \u001b[0;34m\u001b[0m\u001b[0m\n",
            "\u001b[0;32m/usr/local/lib/python3.11/dist-packages/mrjob/sim.py\u001b[0m in \u001b[0;36m_run\u001b[0;34m(self)\u001b[0m\n\u001b[1;32m    159\u001b[0m             \u001b[0mself\u001b[0m\u001b[0;34m.\u001b[0m\u001b[0m_counters\u001b[0m\u001b[0;34m.\u001b[0m\u001b[0mappend\u001b[0m\u001b[0;34m(\u001b[0m\u001b[0;34m{\u001b[0m\u001b[0;34m}\u001b[0m\u001b[0;34m)\u001b[0m\u001b[0;34m\u001b[0m\u001b[0;34m\u001b[0m\u001b[0m\n\u001b[1;32m    160\u001b[0m \u001b[0;34m\u001b[0m\u001b[0m\n\u001b[0;32m--> 161\u001b[0;31m             \u001b[0mself\u001b[0m\u001b[0;34m.\u001b[0m\u001b[0m_run_step\u001b[0m\u001b[0;34m(\u001b[0m\u001b[0mstep\u001b[0m\u001b[0;34m,\u001b[0m \u001b[0mstep_num\u001b[0m\u001b[0;34m)\u001b[0m\u001b[0;34m\u001b[0m\u001b[0;34m\u001b[0m\u001b[0m\n\u001b[0m\u001b[1;32m    162\u001b[0m \u001b[0;34m\u001b[0m\u001b[0m\n\u001b[1;32m    163\u001b[0m     \u001b[0;32mdef\u001b[0m \u001b[0m_run_step\u001b[0m\u001b[0;34m(\u001b[0m\u001b[0mself\u001b[0m\u001b[0;34m,\u001b[0m \u001b[0mstep\u001b[0m\u001b[0;34m,\u001b[0m \u001b[0mstep_num\u001b[0m\u001b[0;34m)\u001b[0m\u001b[0;34m:\u001b[0m\u001b[0;34m\u001b[0m\u001b[0;34m\u001b[0m\u001b[0m\n",
            "\u001b[0;32m/usr/local/lib/python3.11/dist-packages/mrjob/sim.py\u001b[0m in \u001b[0;36m_run_step\u001b[0;34m(self, step, step_num)\u001b[0m\n\u001b[1;32m    168\u001b[0m             \u001b[0mself\u001b[0m\u001b[0;34m.\u001b[0m\u001b[0m_run_step_on_spark\u001b[0m\u001b[0;34m(\u001b[0m\u001b[0mstep\u001b[0m\u001b[0;34m,\u001b[0m \u001b[0mstep_num\u001b[0m\u001b[0;34m)\u001b[0m\u001b[0;34m\u001b[0m\u001b[0;34m\u001b[0m\u001b[0m\n\u001b[1;32m    169\u001b[0m         \u001b[0;32melse\u001b[0m\u001b[0;34m:\u001b[0m\u001b[0;34m\u001b[0m\u001b[0;34m\u001b[0m\u001b[0m\n\u001b[0;32m--> 170\u001b[0;31m             \u001b[0mself\u001b[0m\u001b[0;34m.\u001b[0m\u001b[0m_run_streaming_step\u001b[0m\u001b[0;34m(\u001b[0m\u001b[0mstep\u001b[0m\u001b[0;34m,\u001b[0m \u001b[0mstep_num\u001b[0m\u001b[0;34m)\u001b[0m\u001b[0;34m\u001b[0m\u001b[0;34m\u001b[0m\u001b[0m\n\u001b[0m\u001b[1;32m    171\u001b[0m \u001b[0;34m\u001b[0m\u001b[0m\n\u001b[1;32m    172\u001b[0m     \u001b[0;32mdef\u001b[0m \u001b[0m_run_streaming_step\u001b[0m\u001b[0;34m(\u001b[0m\u001b[0mself\u001b[0m\u001b[0;34m,\u001b[0m \u001b[0mstep\u001b[0m\u001b[0;34m,\u001b[0m \u001b[0mstep_num\u001b[0m\u001b[0;34m)\u001b[0m\u001b[0;34m:\u001b[0m\u001b[0;34m\u001b[0m\u001b[0;34m\u001b[0m\u001b[0m\n",
            "\u001b[0;32m/usr/local/lib/python3.11/dist-packages/mrjob/sim.py\u001b[0m in \u001b[0;36m_run_streaming_step\u001b[0;34m(self, step, step_num)\u001b[0m\n\u001b[1;32m    179\u001b[0m                 self._input_paths_for_step(step_num), step_num)\n\u001b[1;32m    180\u001b[0m \u001b[0;34m\u001b[0m\u001b[0m\n\u001b[0;32m--> 181\u001b[0;31m             \u001b[0mself\u001b[0m\u001b[0;34m.\u001b[0m\u001b[0m_run_mappers_and_combiners\u001b[0m\u001b[0;34m(\u001b[0m\u001b[0mstep_num\u001b[0m\u001b[0;34m,\u001b[0m \u001b[0mmap_splits\u001b[0m\u001b[0;34m)\u001b[0m\u001b[0;34m\u001b[0m\u001b[0;34m\u001b[0m\u001b[0m\n\u001b[0m\u001b[1;32m    182\u001b[0m \u001b[0;34m\u001b[0m\u001b[0m\n\u001b[1;32m    183\u001b[0m             \u001b[0;32mif\u001b[0m \u001b[0;34m'reducer'\u001b[0m \u001b[0;32min\u001b[0m \u001b[0mstep\u001b[0m\u001b[0;34m:\u001b[0m\u001b[0;34m\u001b[0m\u001b[0;34m\u001b[0m\u001b[0m\n",
            "\u001b[0;32m/usr/local/lib/python3.11/dist-packages/mrjob/sim.py\u001b[0m in \u001b[0;36m_run_mappers_and_combiners\u001b[0;34m(self, step_num, map_splits)\u001b[0m\n\u001b[1;32m    217\u001b[0m     \u001b[0;32mdef\u001b[0m \u001b[0m_run_mappers_and_combiners\u001b[0m\u001b[0;34m(\u001b[0m\u001b[0mself\u001b[0m\u001b[0;34m,\u001b[0m \u001b[0mstep_num\u001b[0m\u001b[0;34m,\u001b[0m \u001b[0mmap_splits\u001b[0m\u001b[0;34m)\u001b[0m\u001b[0;34m:\u001b[0m\u001b[0;34m\u001b[0m\u001b[0;34m\u001b[0m\u001b[0m\n\u001b[1;32m    218\u001b[0m         \u001b[0;32mtry\u001b[0m\u001b[0;34m:\u001b[0m\u001b[0;34m\u001b[0m\u001b[0;34m\u001b[0m\u001b[0m\n\u001b[0;32m--> 219\u001b[0;31m             self._run_multiple(\n\u001b[0m\u001b[1;32m    220\u001b[0m                 self._run_mapper_and_combiner_func(\n\u001b[1;32m    221\u001b[0m                     step_num, task_num, map_split)\n",
            "\u001b[0;32m/usr/local/lib/python3.11/dist-packages/mrjob/sim.py\u001b[0m in \u001b[0;36m_run_multiple\u001b[0;34m(self, funcs, num_processes)\u001b[0m\n\u001b[1;32m    128\u001b[0m         \"\"\"\n\u001b[1;32m    129\u001b[0m         \u001b[0;32mfor\u001b[0m \u001b[0mfunc\u001b[0m \u001b[0;32min\u001b[0m \u001b[0mfuncs\u001b[0m\u001b[0;34m:\u001b[0m\u001b[0;34m\u001b[0m\u001b[0;34m\u001b[0m\u001b[0m\n\u001b[0;32m--> 130\u001b[0;31m             \u001b[0mfunc\u001b[0m\u001b[0;34m(\u001b[0m\u001b[0;34m)\u001b[0m\u001b[0;34m\u001b[0m\u001b[0;34m\u001b[0m\u001b[0m\n\u001b[0m\u001b[1;32m    131\u001b[0m \u001b[0;34m\u001b[0m\u001b[0m\n\u001b[1;32m    132\u001b[0m     \u001b[0;32mdef\u001b[0m \u001b[0m_log_cause_of_error\u001b[0m\u001b[0;34m(\u001b[0m\u001b[0mself\u001b[0m\u001b[0;34m,\u001b[0m \u001b[0mex\u001b[0m\u001b[0;34m)\u001b[0m\u001b[0;34m:\u001b[0m\u001b[0;34m\u001b[0m\u001b[0;34m\u001b[0m\u001b[0m\n",
            "\u001b[0;32m/usr/local/lib/python3.11/dist-packages/mrjob/sim.py\u001b[0m in \u001b[0;36m_run_mapper_and_combiner\u001b[0;34m(run_mapper, sort_input, run_combiner, mapper_input_path, mapper_output_path, combiner_input_path)\u001b[0m\n\u001b[1;32m    722\u001b[0m \u001b[0;34m\u001b[0m\u001b[0m\n\u001b[1;32m    723\u001b[0m     \u001b[0;32mif\u001b[0m \u001b[0mrun_mapper\u001b[0m\u001b[0;34m:\u001b[0m\u001b[0;34m\u001b[0m\u001b[0;34m\u001b[0m\u001b[0m\n\u001b[0;32m--> 724\u001b[0;31m         \u001b[0mrun_mapper\u001b[0m\u001b[0;34m(\u001b[0m\u001b[0;34m)\u001b[0m\u001b[0;34m\u001b[0m\u001b[0;34m\u001b[0m\u001b[0m\n\u001b[0m\u001b[1;32m    725\u001b[0m     \u001b[0;32melse\u001b[0m\u001b[0;34m:\u001b[0m\u001b[0;34m\u001b[0m\u001b[0;34m\u001b[0m\u001b[0m\n\u001b[1;32m    726\u001b[0m         \u001b[0m_symlink_or_copy\u001b[0m\u001b[0;34m(\u001b[0m\u001b[0mmapper_input_path\u001b[0m\u001b[0;34m,\u001b[0m \u001b[0mmapper_output_path\u001b[0m\u001b[0;34m)\u001b[0m\u001b[0;34m\u001b[0m\u001b[0;34m\u001b[0m\u001b[0m\n",
            "\u001b[0;32m/usr/local/lib/python3.11/dist-packages/mrjob/sim.py\u001b[0m in \u001b[0;36m_run_task\u001b[0;34m(invoke_task, task_type, step_num, task_num, input_path, output_path, stderr_path, wd, env)\u001b[0m\n\u001b[1;32m    744\u001b[0m             \u001b[0mopen\u001b[0m\u001b[0;34m(\u001b[0m\u001b[0mstderr_path\u001b[0m\u001b[0;34m,\u001b[0m \u001b[0;34m'wb'\u001b[0m\u001b[0;34m)\u001b[0m \u001b[0;32mas\u001b[0m \u001b[0mstderr\u001b[0m\u001b[0;34m:\u001b[0m\u001b[0;34m\u001b[0m\u001b[0;34m\u001b[0m\u001b[0m\n\u001b[1;32m    745\u001b[0m \u001b[0;34m\u001b[0m\u001b[0m\n\u001b[0;32m--> 746\u001b[0;31m         invoke_task(\n\u001b[0m\u001b[1;32m    747\u001b[0m             stdin, stdout, stderr, wd, env)\n\u001b[1;32m    748\u001b[0m \u001b[0;34m\u001b[0m\u001b[0m\n",
            "\u001b[0;32m/usr/local/lib/python3.11/dist-packages/mrjob/inline.py\u001b[0m in \u001b[0;36minvoke_task\u001b[0;34m(stdin, stdout, stderr, wd, env)\u001b[0m\n\u001b[1;32m    131\u001b[0m \u001b[0;34m\u001b[0m\u001b[0m\n\u001b[1;32m    132\u001b[0m                     \u001b[0mtask\u001b[0m \u001b[0;34m=\u001b[0m \u001b[0mself\u001b[0m\u001b[0;34m.\u001b[0m\u001b[0m_mrjob_cls\u001b[0m\u001b[0;34m(\u001b[0m\u001b[0margs\u001b[0m\u001b[0;34m)\u001b[0m\u001b[0;34m\u001b[0m\u001b[0;34m\u001b[0m\u001b[0m\n\u001b[0;32m--> 133\u001b[0;31m                     \u001b[0mtask\u001b[0m\u001b[0;34m.\u001b[0m\u001b[0mexecute\u001b[0m\u001b[0;34m(\u001b[0m\u001b[0;34m)\u001b[0m\u001b[0;34m\u001b[0m\u001b[0;34m\u001b[0m\u001b[0m\n\u001b[0m\u001b[1;32m    134\u001b[0m                 \u001b[0;32mexcept\u001b[0m\u001b[0;34m:\u001b[0m\u001b[0;34m\u001b[0m\u001b[0;34m\u001b[0m\u001b[0m\n\u001b[1;32m    135\u001b[0m                     \u001b[0;31m# so users can figure out where the exception came from;\u001b[0m\u001b[0;34m\u001b[0m\u001b[0;34m\u001b[0m\u001b[0m\n",
            "\u001b[0;32m/usr/local/lib/python3.11/dist-packages/mrjob/job.py\u001b[0m in \u001b[0;36mexecute\u001b[0;34m(self)\u001b[0m\n\u001b[1;32m    673\u001b[0m         \u001b[0;31m# (MRJobLauncher) if not otherwise instructed\u001b[0m\u001b[0;34m\u001b[0m\u001b[0;34m\u001b[0m\u001b[0m\n\u001b[1;32m    674\u001b[0m         \u001b[0;32mif\u001b[0m \u001b[0mself\u001b[0m\u001b[0;34m.\u001b[0m\u001b[0moptions\u001b[0m\u001b[0;34m.\u001b[0m\u001b[0mrun_mapper\u001b[0m\u001b[0;34m:\u001b[0m\u001b[0;34m\u001b[0m\u001b[0;34m\u001b[0m\u001b[0m\n\u001b[0;32m--> 675\u001b[0;31m             \u001b[0mself\u001b[0m\u001b[0;34m.\u001b[0m\u001b[0mrun_mapper\u001b[0m\u001b[0;34m(\u001b[0m\u001b[0mself\u001b[0m\u001b[0;34m.\u001b[0m\u001b[0moptions\u001b[0m\u001b[0;34m.\u001b[0m\u001b[0mstep_num\u001b[0m\u001b[0;34m)\u001b[0m\u001b[0;34m\u001b[0m\u001b[0;34m\u001b[0m\u001b[0m\n\u001b[0m\u001b[1;32m    676\u001b[0m \u001b[0;34m\u001b[0m\u001b[0m\n\u001b[1;32m    677\u001b[0m         \u001b[0;32melif\u001b[0m \u001b[0mself\u001b[0m\u001b[0;34m.\u001b[0m\u001b[0moptions\u001b[0m\u001b[0;34m.\u001b[0m\u001b[0mrun_combiner\u001b[0m\u001b[0;34m:\u001b[0m\u001b[0;34m\u001b[0m\u001b[0;34m\u001b[0m\u001b[0m\n",
            "\u001b[0;32m/usr/local/lib/python3.11/dist-packages/mrjob/job.py\u001b[0m in \u001b[0;36mrun_mapper\u001b[0;34m(self, step_num)\u001b[0m\n\u001b[1;32m    758\u001b[0m         \u001b[0mread_lines\u001b[0m\u001b[0;34m,\u001b[0m \u001b[0mwrite_line\u001b[0m \u001b[0;34m=\u001b[0m \u001b[0mself\u001b[0m\u001b[0;34m.\u001b[0m\u001b[0m_wrap_protocols\u001b[0m\u001b[0;34m(\u001b[0m\u001b[0mstep_num\u001b[0m\u001b[0;34m,\u001b[0m \u001b[0;34m'mapper'\u001b[0m\u001b[0;34m)\u001b[0m\u001b[0;34m\u001b[0m\u001b[0;34m\u001b[0m\u001b[0m\n\u001b[1;32m    759\u001b[0m \u001b[0;34m\u001b[0m\u001b[0m\n\u001b[0;32m--> 760\u001b[0;31m         \u001b[0;32mfor\u001b[0m \u001b[0mk\u001b[0m\u001b[0;34m,\u001b[0m \u001b[0mv\u001b[0m \u001b[0;32min\u001b[0m \u001b[0mself\u001b[0m\u001b[0;34m.\u001b[0m\u001b[0mmap_pairs\u001b[0m\u001b[0;34m(\u001b[0m\u001b[0mread_lines\u001b[0m\u001b[0;34m(\u001b[0m\u001b[0;34m)\u001b[0m\u001b[0;34m,\u001b[0m \u001b[0mstep_num\u001b[0m\u001b[0;34m=\u001b[0m\u001b[0mstep_num\u001b[0m\u001b[0;34m)\u001b[0m\u001b[0;34m:\u001b[0m\u001b[0;34m\u001b[0m\u001b[0;34m\u001b[0m\u001b[0m\n\u001b[0m\u001b[1;32m    761\u001b[0m             \u001b[0mwrite_line\u001b[0m\u001b[0;34m(\u001b[0m\u001b[0mk\u001b[0m\u001b[0;34m,\u001b[0m \u001b[0mv\u001b[0m\u001b[0;34m)\u001b[0m\u001b[0;34m\u001b[0m\u001b[0;34m\u001b[0m\u001b[0m\n\u001b[1;32m    762\u001b[0m \u001b[0;34m\u001b[0m\u001b[0m\n",
            "\u001b[0;32m/usr/local/lib/python3.11/dist-packages/mrjob/job.py\u001b[0m in \u001b[0;36mmap_pairs\u001b[0;34m(self, pairs, step_num)\u001b[0m\n\u001b[1;32m    828\u001b[0m         \u001b[0;32melse\u001b[0m\u001b[0;34m:\u001b[0m\u001b[0;34m\u001b[0m\u001b[0;34m\u001b[0m\u001b[0m\n\u001b[1;32m    829\u001b[0m             \u001b[0;32mfor\u001b[0m \u001b[0mkey\u001b[0m\u001b[0;34m,\u001b[0m \u001b[0mvalue\u001b[0m \u001b[0;32min\u001b[0m \u001b[0mpairs\u001b[0m\u001b[0;34m:\u001b[0m\u001b[0;34m\u001b[0m\u001b[0;34m\u001b[0m\u001b[0m\n\u001b[0;32m--> 830\u001b[0;31m                 \u001b[0;32mfor\u001b[0m \u001b[0mk\u001b[0m\u001b[0;34m,\u001b[0m \u001b[0mv\u001b[0m \u001b[0;32min\u001b[0m \u001b[0mmapper\u001b[0m\u001b[0;34m(\u001b[0m\u001b[0mkey\u001b[0m\u001b[0;34m,\u001b[0m \u001b[0mvalue\u001b[0m\u001b[0;34m)\u001b[0m \u001b[0;32mor\u001b[0m \u001b[0;34m(\u001b[0m\u001b[0;34m)\u001b[0m\u001b[0;34m:\u001b[0m\u001b[0;34m\u001b[0m\u001b[0;34m\u001b[0m\u001b[0m\n\u001b[0m\u001b[1;32m    831\u001b[0m                     \u001b[0;32myield\u001b[0m \u001b[0mk\u001b[0m\u001b[0;34m,\u001b[0m \u001b[0mv\u001b[0m\u001b[0;34m\u001b[0m\u001b[0;34m\u001b[0m\u001b[0m\n\u001b[1;32m    832\u001b[0m \u001b[0;34m\u001b[0m\u001b[0m\n",
            "\u001b[0;32m/content/churn_rate.py\u001b[0m in \u001b[0;36mmapper\u001b[0;34m(self, _, line)\u001b[0m\n\u001b[1;32m     20\u001b[0m         \u001b[0mcompany\u001b[0m \u001b[0;34m=\u001b[0m \u001b[0mrow\u001b[0m\u001b[0;34m[\u001b[0m\u001b[0;36m2\u001b[0m\u001b[0;34m]\u001b[0m             \u001b[0;31m# Company column\u001b[0m\u001b[0;34m\u001b[0m\u001b[0;34m\u001b[0m\u001b[0m\n\u001b[1;32m     21\u001b[0m         \u001b[0mchurned\u001b[0m \u001b[0;34m=\u001b[0m \u001b[0mint\u001b[0m\u001b[0;34m(\u001b[0m\u001b[0mrow\u001b[0m\u001b[0;34m[\u001b[0m\u001b[0;34m-\u001b[0m\u001b[0;36m1\u001b[0m\u001b[0;34m]\u001b[0m \u001b[0;34m==\u001b[0m \u001b[0;34m'Yes'\u001b[0m\u001b[0;34m)\u001b[0m\u001b[0;34m\u001b[0m\u001b[0;34m\u001b[0m\u001b[0m\n\u001b[0;32m---> 22\u001b[0;31m         \u001b[0;32mif\u001b[0m \u001b[0mcompany\u001b[0m \u001b[0;32min\u001b[0m \u001b[0mself\u001b[0m\u001b[0;34m.\u001b[0m\u001b[0mvip\u001b[0m\u001b[0;34m:\u001b[0m\u001b[0;34m\u001b[0m\u001b[0;34m\u001b[0m\u001b[0m\n\u001b[0m\u001b[1;32m     23\u001b[0m             \u001b[0;32myield\u001b[0m \u001b[0;34m(\u001b[0m\u001b[0mcompany\u001b[0m\u001b[0;34m,\u001b[0m \u001b[0;34m'TOTAL'\u001b[0m\u001b[0;34m)\u001b[0m\u001b[0;34m,\u001b[0m \u001b[0;36m1\u001b[0m\u001b[0;34m\u001b[0m\u001b[0;34m\u001b[0m\u001b[0m\n\u001b[1;32m     24\u001b[0m             \u001b[0;32mif\u001b[0m \u001b[0mchurned\u001b[0m\u001b[0;34m:\u001b[0m \u001b[0;32myield\u001b[0m \u001b[0;34m(\u001b[0m\u001b[0mcompany\u001b[0m\u001b[0;34m,\u001b[0m \u001b[0;34m'CHURNED'\u001b[0m\u001b[0;34m)\u001b[0m\u001b[0;34m,\u001b[0m \u001b[0;36m1\u001b[0m\u001b[0;34m\u001b[0m\u001b[0;34m\u001b[0m\u001b[0m\n",
            "\u001b[0;31mAttributeError\u001b[0m: 'CompanyChurnRate' object has no attribute 'vip'"
          ]
        }
      ]
    },
    {
      "cell_type": "markdown",
      "source": [
        "Q3: Extract 2-letter state code from Address, sum Yearly Amount Spent, output top-5."
      ],
      "metadata": {
        "id": "A0x8AqE_G03v"
      }
    },
    {
      "cell_type": "code",
      "source": [
        "%%file state_spend.py\n",
        "from mrjob.job import MRJob\n",
        "from mrjob.step import MRStep, MRStep\n",
        "import csv, re, heapq\n",
        "STATE_RE = re.compile(r',\\s*([A-Z]{2})\\s+\\d{5}$')\n",
        "class StateSpend(MRJob):\n",
        "    \"\"\"Q3: Extract 2-letter state code from Address,\n",
        "       sum Yearly Amount Spent, output top-5.\"\"\"\n",
        "    def mapper(self, _, line):\n",
        "        if line.startswith('Email'):\n",
        "            return\n",
        "        row = next(csv.reader([line]))\n",
        "        addr, amt = row[1], float(row[-1])\n",
        "        m = STATE_RE.search(addr)\n",
        "        if m:\n",
        "            yield m.group(1), amt\n",
        "    def reducer_sum(self, state, amts):\n",
        "        yield None, (sum(amts), state)\n",
        "    def reducer_top5(self, _, state_amt_pairs):\n",
        "        top = heapq.nlargest(5, state_amt_pairs)\n",
        "        for amt, st in top:\n",
        "            yield None, f\"{st}\\t{amt:.2f}\"\n",
        "    def steps(self):\n",
        "        return [MRStep(mapper=self.mapper,\n",
        "                       reducer=self.reducer_sum),\n",
        "                MRStep(reducer=self.reducer_top5)]\n",
        "if __name__ == '__main__':\n",
        "    StateSpend.run()\n"
      ],
      "metadata": {
        "colab": {
          "base_uri": "https://localhost:8080/"
        },
        "id": "eyPWc9H07ahU",
        "outputId": "5ca4b2b2-a634-4e9a-8155-71f8ca2a2eea"
      },
      "execution_count": 17,
      "outputs": [
        {
          "output_type": "stream",
          "name": "stdout",
          "text": [
            "Writing state_spend.py\n"
          ]
        }
      ]
    },
    {
      "cell_type": "code",
      "source": [
        "from state_spend import StateSpend\n",
        "\n",
        "sample = (\n",
        "  \"Email,Address,Avatar,Avg Session Length,Time on App,Time on Website,Length of Membership,Yearly Amount Spent\\n\"\n",
        "  \"mstephenson@fernandez.com,\\\"835 Frank TunnelWrightmouth, MI 82180-9605\\\",Violet,34.49726772511229,12.65565114916675,39.57766801952616,4.0826206329529615,587.9510539684005\\n\"\n",
        "  \"hduke@hotmail.com,\\\"4547 Archer CommonDiazchester, CA 06566-8576\\\",DarkGreen,31.92627202636016,11.109460728682564,37.268958868297744,2.66403418213262,392.2049334443264\\n\"\n",
        "  \"pallen@yahoo.com,\\\"24645 Valerie Unions Suite 582Cobbborough, DC 99414-7564\\\",Bisque,33.000914755642675,11.330278057777512,37.110597442120856,4.104543202376424,487.54750486747207\\n\"\n",
        "  \"riverarebecca@gmail.com,\\\"1414 David ThroughwayPort Jason, OH 22070-1220\\\",SaddleBrown,34.30555662975554,13.717513665142507,36.72128267790313,3.120178782748092,581.8523440352177\\n\"\n",
        "  \"mstephens@davidson-herman.com,\\\"14023 Rodriguez PassagePort Jacobville, PR 37242-1057\\\",MediumAquaMarine,33.33067252364639,12.795188551078114,37.53665330059473,4.446308318351434,599.4060920457634\\n\"\n",
        "  \"alvareznancy@lucas.biz,\\\"645 Martha Park Apt. 611Jeffreychester, MN 67218-7250\\\",FloralWhite,33.871037879341976,12.026925339755056,34.47687762925054,5.493507201364199,637.102447915074\\n\"\n",
        ")\n",
        "\n",
        "output_lines = run_local(StateSpend, sample)\n",
        "for line in output_lines:\n",
        "    print(line)"
      ],
      "metadata": {
        "colab": {
          "base_uri": "https://localhost:8080/"
        },
        "id": "K9UISSNxHbtq",
        "outputId": "c48a758f-793f-4e1b-c4eb-0441a575cf96"
      },
      "execution_count": 19,
      "outputs": [
        {
          "output_type": "stream",
          "name": "stderr",
          "text": [
            "WARNING:mrjob.conf:No configs specified for inline runner\n"
          ]
        }
      ]
    },
    {
      "cell_type": "markdown",
      "source": [
        "Q4:\n",
        "* filter ships with passenger_density>35.0\n",
        "* compute per-line median length (2-dec)."
      ],
      "metadata": {
        "id": "_euXmnglIi47"
      }
    },
    {
      "cell_type": "code",
      "source": [
        "%%file median_length.py\n",
        "from mrjob.job import MRJob\n",
        "from mrjob.step import MRStep\n",
        "import csv, statistics\n",
        "class MedianLength(MRJob):\n",
        "    \"\"\"Q4: (1) filter ships with passenger_density>35.0\n",
        "       (2) compute per-line median length (2-dec).\"\"\"\n",
        "    def mapper(self, _, line):\n",
        "        if line.startswith('Ship_name'):\n",
        "            return\n",
        "        row = next(csv.reader([line]))\n",
        "        line_name = row[1]\n",
        "        density   = float(row[7])\n",
        "        if density > 35.0:\n",
        "            yield line_name, float(row[5])   # length\n",
        "    def reducer(self, line_name, lengths):\n",
        "        ls = sorted(lengths)\n",
        "        med = statistics.median(ls)\n",
        "        yield None, f\"{line_name}\\t{med:.2f}\"\n",
        "    def steps(self):\n",
        "        return [MRStep(mapper=self.mapper, reducer=self.reducer)]\n",
        "if __name__ == '__main__':\n",
        "    MedianLength.run()\n"
      ],
      "metadata": {
        "id": "NEPIBrAA7eke"
      },
      "execution_count": null,
      "outputs": []
    },
    {
      "cell_type": "markdown",
      "source": [
        "Run every job on Hadoop inside Colab"
      ],
      "metadata": {
        "id": "bOHCOlUfIdIC"
      }
    },
    {
      "cell_type": "code",
      "source": [
        "%%bash\n",
        "python cruiseline_aggs.py   cruise.csv      -r hadoop  --output-dir q1_out  --no-conf --quiet\n",
        "python churn_rate.py        churn.csv       -r hadoop  --vip vip_companies.txt --output-dir q2_out --no-conf --quiet\n",
        "python state_spend.py       ecommerce.csv   -r hadoop  --output-dir q3_out  --no-conf --quiet\n",
        "python median_length.py     cruise.csv      -r hadoop  --output-dir q4_out  --no-conf --quiet\n",
        "\n",
        "echo \"=== Q1 ===\"; hdfs dfs -cat q1_out/part* | head\n",
        "echo \"=== Q2 ===\"; hdfs dfs -cat q2_out/part* | head\n",
        "echo \"=== Q3 ===\"; hdfs dfs -cat q3_out/part* | head\n",
        "echo \"=== Q4 ===\"; hdfs dfs -cat q4_out/part* | head\n"
      ],
      "metadata": {
        "id": "JcOZwZqf7su_"
      },
      "execution_count": null,
      "outputs": []
    }
  ]
}