{
  "nbformat": 4,
  "nbformat_minor": 0,
  "metadata": {
    "colab": {
      "provenance": []
    },
    "kernelspec": {
      "name": "python3",
      "display_name": "Python 3"
    },
    "language_info": {
      "name": "python"
    }
  },
  "cells": [
    {
      "cell_type": "markdown",
      "source": [
        "Install Java, Hadoop & mrjob"
      ],
      "metadata": {
        "id": "F4TFHDVvDQop"
      }
    },
    {
      "cell_type": "code",
      "execution_count": 1,
      "metadata": {
        "id": "5cSy5G3jwCev",
        "colab": {
          "base_uri": "https://localhost:8080/"
        },
        "collapsed": true,
        "outputId": "03ef749e-dc70-44b5-e073-8b3736eb1597"
      },
      "outputs": [
        {
          "output_type": "stream",
          "name": "stdout",
          "text": [
            "W: Skipping acquire of configured file 'main/source/Sources' as repository 'https://r2u.stat.illinois.edu/ubuntu jammy InRelease' does not seem to provide it (sources.list entry misspelt?)\n",
            "Selecting previously unselected package libxtst6:amd64.\n",
            "(Reading database ... 126284 files and directories currently installed.)\n",
            "Preparing to unpack .../libxtst6_2%3a1.2.3-1build4_amd64.deb ...\n",
            "Unpacking libxtst6:amd64 (2:1.2.3-1build4) ...\n",
            "Selecting previously unselected package openjdk-8-jre-headless:amd64.\n",
            "Preparing to unpack .../openjdk-8-jre-headless_8u462-ga~us1-0ubuntu2~22.04.2_amd64.deb ...\n",
            "Unpacking openjdk-8-jre-headless:amd64 (8u462-ga~us1-0ubuntu2~22.04.2) ...\n",
            "Selecting previously unselected package openjdk-8-jdk-headless:amd64.\n",
            "Preparing to unpack .../openjdk-8-jdk-headless_8u462-ga~us1-0ubuntu2~22.04.2_amd64.deb ...\n",
            "Unpacking openjdk-8-jdk-headless:amd64 (8u462-ga~us1-0ubuntu2~22.04.2) ...\n",
            "Setting up libxtst6:amd64 (2:1.2.3-1build4) ...\n",
            "Setting up openjdk-8-jre-headless:amd64 (8u462-ga~us1-0ubuntu2~22.04.2) ...\n",
            "update-alternatives: using /usr/lib/jvm/java-8-openjdk-amd64/jre/bin/orbd to provide /usr/bin/orbd (orbd) in auto mode\n",
            "update-alternatives: using /usr/lib/jvm/java-8-openjdk-amd64/jre/bin/servertool to provide /usr/bin/servertool (servertool) in auto mode\n",
            "update-alternatives: using /usr/lib/jvm/java-8-openjdk-amd64/jre/bin/tnameserv to provide /usr/bin/tnameserv (tnameserv) in auto mode\n",
            "Setting up openjdk-8-jdk-headless:amd64 (8u462-ga~us1-0ubuntu2~22.04.2) ...\n",
            "update-alternatives: using /usr/lib/jvm/java-8-openjdk-amd64/bin/clhsdb to provide /usr/bin/clhsdb (clhsdb) in auto mode\n",
            "update-alternatives: using /usr/lib/jvm/java-8-openjdk-amd64/bin/extcheck to provide /usr/bin/extcheck (extcheck) in auto mode\n",
            "update-alternatives: using /usr/lib/jvm/java-8-openjdk-amd64/bin/hsdb to provide /usr/bin/hsdb (hsdb) in auto mode\n",
            "update-alternatives: using /usr/lib/jvm/java-8-openjdk-amd64/bin/idlj to provide /usr/bin/idlj (idlj) in auto mode\n",
            "update-alternatives: using /usr/lib/jvm/java-8-openjdk-amd64/bin/javah to provide /usr/bin/javah (javah) in auto mode\n",
            "update-alternatives: using /usr/lib/jvm/java-8-openjdk-amd64/bin/jhat to provide /usr/bin/jhat (jhat) in auto mode\n",
            "update-alternatives: using /usr/lib/jvm/java-8-openjdk-amd64/bin/jsadebugd to provide /usr/bin/jsadebugd (jsadebugd) in auto mode\n",
            "update-alternatives: using /usr/lib/jvm/java-8-openjdk-amd64/bin/native2ascii to provide /usr/bin/native2ascii (native2ascii) in auto mode\n",
            "update-alternatives: using /usr/lib/jvm/java-8-openjdk-amd64/bin/schemagen to provide /usr/bin/schemagen (schemagen) in auto mode\n",
            "update-alternatives: using /usr/lib/jvm/java-8-openjdk-amd64/bin/wsgen to provide /usr/bin/wsgen (wsgen) in auto mode\n",
            "update-alternatives: using /usr/lib/jvm/java-8-openjdk-amd64/bin/wsimport to provide /usr/bin/wsimport (wsimport) in auto mode\n",
            "update-alternatives: using /usr/lib/jvm/java-8-openjdk-amd64/bin/xjc to provide /usr/bin/xjc (xjc) in auto mode\n",
            "Processing triggers for libc-bin (2.35-0ubuntu3.8) ...\n",
            "/sbin/ldconfig.real: /usr/local/lib/libur_adapter_level_zero.so.0 is not a symbolic link\n",
            "\n",
            "/sbin/ldconfig.real: /usr/local/lib/libtcm_debug.so.1 is not a symbolic link\n",
            "\n",
            "/sbin/ldconfig.real: /usr/local/lib/libtbb.so.12 is not a symbolic link\n",
            "\n",
            "/sbin/ldconfig.real: /usr/local/lib/libtbbbind_2_0.so.3 is not a symbolic link\n",
            "\n",
            "/sbin/ldconfig.real: /usr/local/lib/libtbbbind_2_5.so.3 is not a symbolic link\n",
            "\n",
            "/sbin/ldconfig.real: /usr/local/lib/libur_adapter_opencl.so.0 is not a symbolic link\n",
            "\n",
            "/sbin/ldconfig.real: /usr/local/lib/libtbbmalloc.so.2 is not a symbolic link\n",
            "\n",
            "/sbin/ldconfig.real: /usr/local/lib/libumf.so.0 is not a symbolic link\n",
            "\n",
            "/sbin/ldconfig.real: /usr/local/lib/libtcm.so.1 is not a symbolic link\n",
            "\n",
            "/sbin/ldconfig.real: /usr/local/lib/libtbbbind.so.3 is not a symbolic link\n",
            "\n",
            "/sbin/ldconfig.real: /usr/local/lib/libur_loader.so.0 is not a symbolic link\n",
            "\n",
            "/sbin/ldconfig.real: /usr/local/lib/libhwloc.so.15 is not a symbolic link\n",
            "\n",
            "/sbin/ldconfig.real: /usr/local/lib/libtbbmalloc_proxy.so.2 is not a symbolic link\n",
            "\n",
            "/sbin/ldconfig.real: /usr/local/lib/libur_adapter_level_zero_v2.so.0 is not a symbolic link\n",
            "\n",
            "\u001b[2K   \u001b[90m━━━━━━━━━━━━━━━━━━━━━━━━━━━━━━━━━━━━━━━━\u001b[0m \u001b[32m439.6/439.6 kB\u001b[0m \u001b[31m5.6 MB/s\u001b[0m eta \u001b[36m0:00:00\u001b[0m\n",
            "\u001b[?25hHadoop 3.3.6\n",
            "Source code repository https://github.com/apache/hadoop.git -r 1be78238728da9266a4f88195058f08fd012bf9c\n",
            "Compiled by ubuntu on 2023-06-18T08:22Z\n",
            "Compiled on platform linux-x86_64\n",
            "Compiled with protoc 3.7.1\n",
            "From source with checksum 5652179ad55f76cb287d9c633bb53bbd\n",
            "This command was run using /content/hadoop-3.3.6/share/hadoop/common/hadoop-common-3.3.6.jar\n"
          ]
        }
      ],
      "source": [
        "!apt-get update -qq\n",
        "!apt-get install -y openjdk-8-jdk-headless -qq\n",
        "!wget -q https://downloads.apache.org/hadoop/common/hadoop-3.3.6/hadoop-3.3.6.tar.gz\n",
        "!tar -xf hadoop-3.3.6.tar.gz\n",
        "import os, pathlib, sys, json, re, textwrap, math, itertools\n",
        "os.environ[\"JAVA_HOME\"]  = \"/usr/lib/jvm/java-8-openjdk-amd64\"\n",
        "os.environ[\"HADOOP_HOME\"] = \"/content/hadoop-3.3.6\"\n",
        "!pip install -q mrjob==0.7.4\n",
        "!ln -sf /content/hadoop-3.3.6/bin/* /usr/bin/\n",
        "!hadoop version"
      ]
    },
    {
      "cell_type": "markdown",
      "source": [
        "Get CSVs"
      ],
      "metadata": {
        "id": "c4sAuKcGDZig"
      }
    },
    {
      "cell_type": "code",
      "source": [
        "!wget -q -O cruise.csv  https://raw.githubusercontent.com/TakMashhido/PGD-BigData-Tutorial/refs/heads/main/Dataset/cruise.csv\n",
        "!wget -q -O churn.csv   https://raw.githubusercontent.com/TakMashhido/PGD-BigData-Tutorial/refs/heads/main/Dataset/customer_churn.csv\n",
        "!wget -q -O ecommerce.csv https://raw.githubusercontent.com/TakMashhido/PGD-BigData-Tutorial/refs/heads/main/Dataset/e-com_customer.csv"
      ],
      "metadata": {
        "id": "ourlXR4VtUqD"
      },
      "execution_count": 2,
      "outputs": []
    },
    {
      "cell_type": "code",
      "source": [
        "from mrjob.job import MRJob\n",
        "from mrjob.protocol import RawValueProtocol\n",
        "from io import StringIO, BytesIO"
      ],
      "metadata": {
        "id": "wjQ2Gx_JdGaY"
      },
      "execution_count": 3,
      "outputs": []
    },
    {
      "cell_type": "markdown",
      "source": [
        "Function for local runner"
      ],
      "metadata": {
        "id": "YNdwvKs0DxoE"
      }
    },
    {
      "cell_type": "code",
      "source": [
        "def run_local(mr_cls, sample_str):\n",
        "    runner = mr_cls(args=['-r', 'inline', '--no-conf'])\n",
        "    stdin  = BytesIO(sample_str.encode('utf-8'))\n",
        "    with runner.make_runner() as r:\n",
        "        r._stdin = stdin\n",
        "        r.run()\n",
        "        return [line.decode('utf-8').strip() for line in r.cat_output()]"
      ],
      "metadata": {
        "id": "azD3DXjPckv2"
      },
      "execution_count": 4,
      "outputs": []
    },
    {
      "cell_type": "markdown",
      "source": [
        "Q1: For each Cruise line compute:\n",
        "* ship_count\n",
        "* avg_tonnage\n",
        "* max_crew\n",
        "\n",
        "Uses a combiner to lower shuffle volume."
      ],
      "metadata": {
        "id": "2MrAwYdeD9tO"
      }
    },
    {
      "cell_type": "code",
      "source": [
        "%%file cruiseline_agg.py\n",
        "from mrjob.job import MRJob\n",
        "from mrjob.step import MRStep\n",
        "from mrjob.protocol import RawValueProtocol\n",
        "import csv, sys\n",
        "class CruiseLineAgg(MRJob):\n",
        "    \"\"\"Q1: For each Cruise line compute\n",
        "       (a) ship_count\n",
        "       (b) avg_tonnage\n",
        "       (c) max_crew\n",
        "       Uses a combiner to lower shuffle volume.\"\"\"\n",
        "    OUTPUT_PROTOCOL = RawValueProtocol\n",
        "    def mapper(self, _, line):\n",
        "        if line.startswith('Ship_name'):\n",
        "            return\n",
        "        row = next(csv.reader([line]))\n",
        "        line_name = row[1]\n",
        "        tonnage   = float(row[3])\n",
        "        crew      = float(row[8])\n",
        "        yield line_name, (1, tonnage, crew)\n",
        "    def combiner(self, line_name, vals):\n",
        "        c, t_sum, c_max = 0, 0.0, 0.0\n",
        "        for cnt, ton, cr in vals:\n",
        "            c += cnt; t_sum += ton; c_max = max(c_max, cr)\n",
        "        yield line_name, (c, t_sum, c_max)\n",
        "    def reducer(self, line_name, vals):\n",
        "        c, t_sum, c_max = 0, 0.0, 0.0\n",
        "        for cnt, ton, cr in vals:\n",
        "            c += cnt; t_sum += ton; c_max = max(c_max, cr)\n",
        "        avg_ton = round(t_sum / c, 2)\n",
        "        yield None, f\"Cruise Line: {line_name} | Ship Count: {c} | Average Tonnage: {avg_ton:.2f} | Max Crew: {c_max}\"\n",
        "    def steps(self):\n",
        "        return [MRStep(mapper=self.mapper,\n",
        "                       combiner=self.combiner,\n",
        "                       reducer=self.reducer)]\n",
        "if __name__ == '__main__':\n",
        "    CruiseLineAgg.run()"
      ],
      "metadata": {
        "id": "OvYCzJ9iaa3d",
        "colab": {
          "base_uri": "https://localhost:8080/"
        },
        "outputId": "edc35079-26f8-451b-deda-f6729be7e178"
      },
      "execution_count": 5,
      "outputs": [
        {
          "output_type": "stream",
          "name": "stdout",
          "text": [
            "Writing cruiseline_agg.py\n"
          ]
        }
      ]
    },
    {
      "cell_type": "code",
      "source": [
        "from cruiseline_agg import CruiseLineAgg\n",
        "\n",
        "sample = (\n",
        "    \"Ship_name,Cruise_line,Age,Tonnage,passengers,length,cabins,passenger_density,crew\\n\"\n",
        "    \"Journey,Azamara,6,30.276999999999997,6.94,5.94,3.55,42.64,3.55\\n\"\n",
        "    \"Quest,Azamara,6,30.276999999999997,6.94,5.94,3.55,42.64,3.55\\n\"\n",
        "    \"Celebration,Carnival,26,47.262,14.86,7.22,7.43,31.8,6.7\\n\"\n",
        ")\n",
        "\n",
        "output_lines = run_local(CruiseLineAgg, sample)\n",
        "for line in output_lines:\n",
        "    print(line)\n"
      ],
      "metadata": {
        "id": "RjIKQDUmeBrx",
        "colab": {
          "base_uri": "https://localhost:8080/"
        },
        "outputId": "b6013d36-c73d-49d0-bc1f-0e016994c4a0"
      },
      "execution_count": 6,
      "outputs": [
        {
          "output_type": "stream",
          "name": "stderr",
          "text": [
            "WARNING:mrjob.conf:No configs specified for inline runner\n"
          ]
        },
        {
          "output_type": "stream",
          "name": "stdout",
          "text": [
            "Cruise Line: Carnival | Ship Count: 1 | Average Tonnage: 47.26 | Max Crew: 6.7\n",
            "\n",
            "Cruise Line: Azamara | Ship Count: 2 | Average Tonnage: 30.28 | Max Crew: 3.55\n"
          ]
        }
      ]
    },
    {
      "cell_type": "markdown",
      "source": [
        "Q2: Multi-step job that filters to VIP firms (from distributed cache) then emits company-level churn rate to 4-decimal precision."
      ],
      "metadata": {
        "id": "hI8TwQQkFV-c"
      }
    },
    {
      "cell_type": "code",
      "source": [
        "%%file churn_rate.py\n",
        "from mrjob.job import MRJob\n",
        "from mrjob.step import MRStep\n",
        "import csv, os\n",
        "class CompanyChurnRate(MRJob):\n",
        "    \"\"\"Q2: Multi-step job that filters to VIP firms (from distributed\n",
        "       cache) then emits company-level churn rate to 4-decimal precision.\"\"\"\n",
        "    FILES = ['vip_companies.txt']\n",
        "    def configure_args(self):\n",
        "        super().configure_args()\n",
        "        self.add_file_arg('--vip', default='vip_companies.txt')\n",
        "    def mapper_init(self):\n",
        "        with open(self.options.vip) as f:\n",
        "            self.vip = {l.strip() for l in f if l.strip()}\n",
        "    def mapper(self, _, line):\n",
        "        if line.lower().startswith('names'):\n",
        "            return\n",
        "        row = next(csv.reader([line]))\n",
        "        company = row[-2]\n",
        "        churned = int(row[-1]) == 1\n",
        "        if company in self.vip:\n",
        "            yield (company, 'TOTAL'), 1\n",
        "            if churned:\n",
        "              yield (company, 'CHURNED'), 1\n",
        "    def reducer(self, key, vals):\n",
        "        yield key[0], (key[1], sum(vals))\n",
        "    def calc_rate(self, company, counts):\n",
        "        counts_dict = dict(counts)\n",
        "        total = counts_dict.get('TOTAL', 0)\n",
        "        churned = counts_dict.get('CHURNED', 0)\n",
        "        if total > 0:\n",
        "            rate = churned / total\n",
        "            yield None, f\"Company: {company} | Churn Rate: {rate:.4f}\"\n",
        "        else:\n",
        "            yield None, f\"Company: {company} | Churn Rate: 0.0000\"\n",
        "\n",
        "    def steps(self):\n",
        "        return [MRStep(mapper_init = self.mapper_init,\n",
        "                       mapper=self.mapper,\n",
        "                       reducer=self.reducer),\n",
        "                MRStep(reducer=self.calc_rate)]\n",
        "if __name__ == '__main__':\n",
        "    CompanyChurnRate.run()"
      ],
      "metadata": {
        "id": "SpX6krhvuoX1",
        "colab": {
          "base_uri": "https://localhost:8080/"
        },
        "outputId": "ecb387c3-b428-441b-ae20-118a391db912"
      },
      "execution_count": 7,
      "outputs": [
        {
          "output_type": "stream",
          "name": "stdout",
          "text": [
            "Writing churn_rate.py\n"
          ]
        }
      ]
    },
    {
      "cell_type": "code",
      "source": [
        "from churn_rate import CompanyChurnRate\n",
        "\n",
        "sample = (\n",
        "    \"Names,Age,Total_Purchase,Account_Manager,Years,Num_Sites,Onboard_date,Location,Company,Churn\\n\"\n",
        "    \"Cameron Williams,42.0,11066.8,0,7.22,8.0,2013-08-30 07:00:40,\\\"10265 Elizabeth Mission Barkerburgh, AK 89518\\\",Harvey LLC,1\\n\"\n",
        "    \"Kevin Mueller,41.0,11916.22,0,6.5,11.0,2013-08-13 00:38:46,\\\"6157 Frank Gardens Suite 019 Carloshaven, RI 17756\\\",Wilson PLC,1\\n\"\n",
        "    \"Eric Lozano,38.0,12884.75,0,6.67,12.0,2016-06-29 06:20:07,\\\"1331 Keith Court Alyssahaven, DE 90114\\\",\\\"Miller, Johnson and Wallace\\\",1\\n\"\n",
        "    \"Phillip White,42.0,8010.76,0,6.71,10.0,2014-04-22 12:43:12,\\\"13120 Daniel Mount Angelabury, WY 30645-4695\\\",Smith Inc,1\\n\"\n",
        ")\n",
        "\n",
        "output_lines = run_local(CompanyChurnRate, sample)\n",
        "for line in output_lines:\n",
        "    print(line)"
      ],
      "metadata": {
        "colab": {
          "base_uri": "https://localhost:8080/"
        },
        "id": "f7Eb60IFFhuu",
        "outputId": "8404bcde-0ae4-497d-95ed-33bb314051b5"
      },
      "execution_count": 8,
      "outputs": [
        {
          "output_type": "stream",
          "name": "stderr",
          "text": [
            "WARNING:mrjob.conf:No configs specified for inline runner\n"
          ]
        },
        {
          "output_type": "stream",
          "name": "stdout",
          "text": [
            "null\t\"Company: Wilson PLC | Churn Rate: 1.0000\"\n",
            "\n",
            "null\t\"Company: Harvey LLC | Churn Rate: 1.0000\"\n"
          ]
        }
      ]
    },
    {
      "cell_type": "markdown",
      "source": [
        "Q3: Extract 2-letter state code from Address, sum Yearly Amount Spent, output top-5."
      ],
      "metadata": {
        "id": "A0x8AqE_G03v"
      }
    },
    {
      "cell_type": "code",
      "source": [
        "%%file state_spend.py\n",
        "from mrjob.job import MRJob\n",
        "from mrjob.step import MRStep\n",
        "from mrjob.protocol import RawValueProtocol\n",
        "import csv, sys\n",
        "import re, heapq\n",
        "class StateSpend(MRJob):\n",
        "    \"\"\"Q3: Extract 2-letter state code from Address,\n",
        "       sum Yearly Amount Spent, output top-5.\"\"\"\n",
        "    OUTPUT_PROTOCOL = RawValueProtocol\n",
        "    def mapper(self, _, line):\n",
        "        if line.startswith('Email'):\n",
        "            return\n",
        "        row = next(csv.reader([line]))\n",
        "        addr = row[1]\n",
        "        amt_spend   = float(row[-1])\n",
        "        m = re.compile(r',\\s*([A-Z]{2})\\s*\\d{5}-\\d{4}$').search(addr)\n",
        "        if m:\n",
        "          yield m.group(1), amt_spend\n",
        "        else:\n",
        "          yield \"DEFAULT\", amt_spend\n",
        "    def reducer_sum(self, state, amt_spend):\n",
        "        yield None, (sum(amt_spend), state)\n",
        "    def reducer(self, _, state_amount):\n",
        "        top = heapq.nlargest(5, state_amount)\n",
        "        for amt, st in top:\n",
        "            yield None, f\"State: {st} | Amount Spent:{amt:.2f}\"\n",
        "    def steps(self):\n",
        "        return [MRStep(mapper=self.mapper,\n",
        "                       reducer=self.reducer_sum),\n",
        "                MRStep(reducer=self.reducer)]\n",
        "if __name__ == '__main__':\n",
        "    StateSpend.run()"
      ],
      "metadata": {
        "colab": {
          "base_uri": "https://localhost:8080/"
        },
        "id": "eyPWc9H07ahU",
        "outputId": "2d690965-df13-406a-8598-7d2e9de55d74"
      },
      "execution_count": 9,
      "outputs": [
        {
          "output_type": "stream",
          "name": "stdout",
          "text": [
            "Writing state_spend.py\n"
          ]
        }
      ]
    },
    {
      "cell_type": "code",
      "source": [
        "from state_spend import StateSpend\n",
        "\n",
        "sample = (\n",
        "  \"Email,Address,Avatar,Avg Session Length,Time on App,Time on Website,Length of Membership,Yearly Amount Spent\\n\"\n",
        "  \"mstephenson@fernandez.com,\\\"835 Frank TunnelWrightmouth, MI 82180-9605\\\",Violet,34.49726772511229,12.65565114916675,39.57766801952616,4.0826206329529615,587.9510539684005\\n\"\n",
        "  \"hduke@hotmail.com,\\\"4547 Archer CommonDiazchester, CA 06566-8576\\\",DarkGreen,31.92627202636016,11.109460728682564,37.268958868297744,2.66403418213262,392.2049334443264\\n\"\n",
        "  \"pallen@yahoo.com,\\\"24645 Valerie Unions Suite 582Cobbborough, DC 99414-7564\\\",Bisque,33.000914755642675,11.330278057777512,37.110597442120856,4.104543202376424,487.54750486747207\\n\"\n",
        "  \"riverarebecca@gmail.com,\\\"1414 David ThroughwayPort Jason, OH 22070-1220\\\",SaddleBrown,34.30555662975554,13.717513665142507,36.72128267790313,3.120178782748092,581.8523440352177\\n\"\n",
        "  \"mstephens@davidson-herman.com,\\\"14023 Rodriguez PassagePort Jacobville, PR 37242-1057\\\",MediumAquaMarine,33.33067252364639,12.795188551078114,37.53665330059473,4.446308318351434,599.4060920457634\\n\"\n",
        "  \"alvareznancy@lucas.biz,\\\"645 Martha Park Apt. 611Jeffreychester, MN 67218-7250\\\",FloralWhite,33.871037879341976,12.026925339755056,34.47687762925054,5.493507201364199,637.102447915074\\n\"\n",
        ")\n",
        "\n",
        "output_lines = run_local(StateSpend, sample)\n",
        "for line in output_lines:\n",
        "    print(line)"
      ],
      "metadata": {
        "colab": {
          "base_uri": "https://localhost:8080/"
        },
        "id": "K9UISSNxHbtq",
        "outputId": "50bfa1a8-459e-4c71-e12a-fe2ef46e5aaa"
      },
      "execution_count": 10,
      "outputs": [
        {
          "output_type": "stream",
          "name": "stderr",
          "text": [
            "WARNING:mrjob.conf:No configs specified for inline runner\n"
          ]
        },
        {
          "output_type": "stream",
          "name": "stdout",
          "text": [
            "State: MN | Amount Spent:637.10\n",
            "State: PR | Amount Spent:599.41\n",
            "State: MI | Amount Spent:587.95\n",
            "State: OH | Amount Spent:581.85\n",
            "State: DC | Amount Spent:487.55\n"
          ]
        }
      ]
    },
    {
      "cell_type": "markdown",
      "source": [
        "Q4:\n",
        "* filter ships with passenger_density>35.0\n",
        "* compute per-line median length"
      ],
      "metadata": {
        "id": "_euXmnglIi47"
      }
    },
    {
      "cell_type": "code",
      "source": [
        "%%file median_length.py\n",
        "from mrjob.job import MRJob\n",
        "from mrjob.step import MRStep\n",
        "import csv, statistics\n",
        "class MedianLength(MRJob):\n",
        "    \"\"\"Q4: (1) filter ships with passenger_density>35.0\n",
        "       (2) compute per-line median length\"\"\"\n",
        "    def mapper(self, _, line):\n",
        "        if line.startswith('Ship_name'):\n",
        "            return\n",
        "        row = next(csv.reader([line]))\n",
        "        line_name = row[1]\n",
        "        density   = float(row[7])\n",
        "        if density > 35.0:\n",
        "            yield line_name, float(row[5])\n",
        "    def reducer(self, line_name, lengths):\n",
        "        ls = sorted(lengths)\n",
        "        med = statistics.median(ls)\n",
        "        yield None, f\"Cruise Line: {line_name} | Median Length: {med:.2f}\"\n",
        "    def steps(self):\n",
        "        return [MRStep(mapper=self.mapper, reducer=self.reducer)]\n",
        "if __name__ == '__main__':\n",
        "    MedianLength.run()\n"
      ],
      "metadata": {
        "id": "NEPIBrAA7eke",
        "colab": {
          "base_uri": "https://localhost:8080/"
        },
        "outputId": "74051b23-1bf9-4c28-af5b-126588bab430"
      },
      "execution_count": 11,
      "outputs": [
        {
          "output_type": "stream",
          "name": "stdout",
          "text": [
            "Writing median_length.py\n"
          ]
        }
      ]
    },
    {
      "cell_type": "code",
      "source": [
        "from median_length import MedianLength\n",
        "\n",
        "sample = (\n",
        "    \"Ship_name,Cruise_line,Age,Tonnage,passengers,length,cabins,passenger_density,crew\\n\"\n",
        "    \"Journey,Azamara,6,30.276999999999997,6.94,5.94,3.55,42.64,3.55\\n\"\n",
        "    \"Quest,Azamara,6,30.276999999999997,6.94,5.94,3.55,42.64,3.55\\n\"\n",
        "    \"Celebration,Carnival,26,47.262,14.86,7.22,7.43,31.8,6.7\\n\"\n",
        ")\n",
        "\n",
        "output_lines = run_local(MedianLength, sample)\n",
        "for line in output_lines:\n",
        "    print(line)"
      ],
      "metadata": {
        "colab": {
          "base_uri": "https://localhost:8080/"
        },
        "id": "WYX0qXCR_P-J",
        "outputId": "8b1bc8c0-0285-4b81-cd1a-1fc3926956bf"
      },
      "execution_count": 12,
      "outputs": [
        {
          "output_type": "stream",
          "name": "stderr",
          "text": [
            "WARNING:mrjob.conf:No configs specified for inline runner\n"
          ]
        },
        {
          "output_type": "stream",
          "name": "stdout",
          "text": [
            "null\t\"Cruise Line: Azamara | Median Length: 5.94\"\n"
          ]
        }
      ]
    },
    {
      "cell_type": "markdown",
      "source": [
        "Run every job on Hadoop inside Colab"
      ],
      "metadata": {
        "id": "bOHCOlUfIdIC"
      }
    },
    {
      "cell_type": "code",
      "source": [
        "%%bash\n",
        "python cruiseline_aggs.py cruise.csv -r local --output-dir q1_out --no-conf --quiet\n",
        "python churn_rate.py churn.csv -r local --vip vip_companies.txt --output-dir q2_out --no-conf --quiet\n",
        "python state_spend.py ecommerce.csv -r local --output-dir q3_out --no-conf --quiet\n",
        "python median_length.py cruise.csv -r local --output-dir q4_out --no-conf --quiet\n",
        "\n",
        "echo \"=== Q1: Cruise Line Aggregations ===\"\n",
        "cat q1_out/part-* > q1_full_output.txt\n",
        "cat q1_full_output.txt\n",
        "\n",
        "echo \"\\n=== Q2: Company Churn Rate (VIP) ===\"\n",
        "cat q2_out/part-* > q2_full_output.txt\n",
        "cat q2_full_output.txt\n",
        "\n",
        "echo \"\\n=== Q3: State-wise Yearly Spending (Top 5) ===\"\n",
        "cat q3_out/part-* > q3_full_output.txt\n",
        "cat q3_full_output.txt\n",
        "\n",
        "echo \"\\n=== Q4: Median Ship Length for Density > 35 ===\"\n",
        "cat q4_out/part-* > q4_full_output.txt\n",
        "cat q4_full_output.txt"
      ],
      "metadata": {
        "id": "JcOZwZqf7su_",
        "colab": {
          "base_uri": "https://localhost:8080/"
        },
        "collapsed": true,
        "outputId": "58a757f6-a7a0-4845-b97d-fcd2d9be837d"
      },
      "execution_count": 13,
      "outputs": [
        {
          "output_type": "stream",
          "name": "stdout",
          "text": [
            "=== Q1: Cruise Line Aggregations ===\n",
            "\\n=== Q2: Company Churn Rate (VIP) ===\n",
            "null\t\"Company: Harvey LLC | Churn Rate: 1.0000\"\n",
            "null\t\"Company: Martin and Sons | Churn Rate: 0.0000\"\n",
            "null\t\"Company: Wilson PLC | Churn Rate: 0.3333\"\n",
            "\\n=== Q3: State-wise Yearly Spending (Top 5) ===\n",
            "State: DEFAULT | Amount Spent:131829.76\n",
            "State: NC | Amount Spent:3896.02\n",
            "State: KS | Amount Spent:3874.21\n",
            "State: OR | Amount Spent:3656.82\n",
            "State: DE | Amount Spent:3369.33\n",
            "\\n=== Q4: Median Ship Length for Density > 35 ===\n",
            "null\t\"Cruise Line: Azamara | Median Length: 5.94\"\n",
            "null\t\"Cruise Line: Carnival | Median Length: 9.52\"\n",
            "null\t\"Cruise Line: Celebrity | Median Length: 9.65\"\n",
            "null\t\"Cruise Line: Costa | Median Length: 8.28\"\n",
            "null\t\"Cruise Line: Crystal | Median Length: 7.86\"\n",
            "null\t\"Cruise Line: Cunard | Median Length: 9.64\"\n",
            "null\t\"Cruise Line: Disney | Median Length: 9.64\"\n",
            "null\t\"Cruise Line: Holland_American | Median Length: 7.77\"\n",
            "null\t\"Cruise Line: MSC | Median Length: 8.23\"\n",
            "null\t\"Cruise Line: Norwegian | Median Length: 9.00\"\n",
            "null\t\"Cruise Line: Oceania | Median Length: 5.94\"\n",
            "null\t\"Cruise Line: P&O | Median Length: 8.56\"\n",
            "null\t\"Cruise Line: Princess | Median Length: 9.51\"\n",
            "null\t\"Cruise Line: Regent_Seven_Seas | Median Length: 6.15\"\n",
            "null\t\"Cruise Line: Royal_Caribbean | Median Length: 10.20\"\n",
            "null\t\"Cruise Line: Seabourn | Median Length: 4.40\"\n",
            "null\t\"Cruise Line: Silversea | Median Length: 5.55\"\n",
            "null\t\"Cruise Line: Star | Median Length: 2.80\"\n",
            "null\t\"Cruise Line: Windstar | Median Length: 6.17\"\n"
          ]
        },
        {
          "output_type": "stream",
          "name": "stderr",
          "text": [
            "python3: can't open file '/content/cruiseline_aggs.py': [Errno 2] No such file or directory\n",
            "cat: 'q1_out/part-*': No such file or directory\n"
          ]
        }
      ]
    }
  ]
}